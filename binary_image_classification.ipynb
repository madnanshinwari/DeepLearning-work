{
  "cells": [
    {
      "cell_type": "markdown",
      "metadata": {
        "id": "view-in-github",
        "colab_type": "text"
      },
      "source": [
        "<a href=\"https://colab.research.google.com/github/madnanshinwari/DeepLearning-work/blob/main/binary_image_classification.ipynb\" target=\"_parent\"><img src=\"https://colab.research.google.com/assets/colab-badge.svg\" alt=\"Open In Colab\"/></a>"
      ]
    },
    {
      "cell_type": "code",
      "execution_count": null,
      "metadata": {
        "id": "8PUqf9-HQdNz"
      },
      "outputs": [],
      "source": [
        "import numpy as np\n",
        "import os\n",
        "from tensorflow.keras.preprocessing.image import ImageDataGenerator\n",
        "from tensorflow.keras.preprocessing import image\n"
      ]
    },
    {
      "cell_type": "markdown",
      "metadata": {
        "id": "m2cLEg5ifWtL"
      },
      "source": [
        "\n",
        "Use ImageDataGenerator for load and preprocess the images.this tool automatically labels the images based on the folder names and prepares them for training."
      ]
    },
    {
      "cell_type": "code",
      "execution_count": null,
      "metadata": {
        "id": "hR0UTOd9fVz_"
      },
      "outputs": [],
      "source": [
        "\n",
        "train_datagen = ImageDataGenerator(rescale = 1./255, # rescale the pixel values (divide by 255) Normalize the images\n",
        "                                   rotation_range = 30,\n",
        "                                   width_shift_range = 0.2,\n",
        "                                   height_shift_range = 0.2,\n",
        "                                   shear_range = 0.2,\n",
        "                                   zoom_range = 0.2,\n",
        "                                   horizontal_flip = True,\n",
        "                                   fill_mode='nearest') # Fill in newly created pixels after transformations using the nearest pixel valuescsc"
      ]
    },
    {
      "cell_type": "markdown",
      "metadata": {
        "id": "3o0SQItvg1PH"
      },
      "source": [
        "## load the Training Data:\n"
      ]
    },
    {
      "cell_type": "code",
      "execution_count": null,
      "metadata": {
        "colab": {
          "base_uri": "https://localhost:8080/"
        },
        "id": "p8DuRVWohO-Z",
        "outputId": "c4cd1f4b-fdb7-48af-e7c5-4c40c43da375"
      },
      "outputs": [
        {
          "output_type": "stream",
          "name": "stdout",
          "text": [
            "Found 696 images belonging to 2 classes.\n"
          ]
        }
      ],
      "source": [
        "train_generator = train_datagen.flow_from_directory(\n",
        "    '/content/drive/MyDrive/Lab work/DL /binary classification/dataset/train',\n",
        "    target_size = (128, 128), # resize all images to 128 x 128 pixels,\n",
        "    batch_size = 32, # number of images process at a time\n",
        "    class_mode = 'binary'\n",
        "\n",
        ")"
      ]
    },
    {
      "cell_type": "markdown",
      "metadata": {
        "id": "tsSxDEf79NIZ"
      },
      "source": [
        "## Loading and Preprocessing test data:\n"
      ]
    },
    {
      "cell_type": "code",
      "execution_count": null,
      "metadata": {
        "id": "hht4t86G4QqW"
      },
      "outputs": [],
      "source": [
        "test_datagen = ImageDataGenerator(rescale = 1./255) # rescale pixel values(divide by 255) to normalize the images"
      ]
    },
    {
      "cell_type": "markdown",
      "metadata": {
        "id": "dci3xVEA9taR"
      },
      "source": [
        "## Load the test data:"
      ]
    },
    {
      "cell_type": "code",
      "execution_count": null,
      "metadata": {
        "colab": {
          "base_uri": "https://localhost:8080/"
        },
        "id": "MorH0Zmi90ss",
        "outputId": "c9ae5e99-41fb-44d0-88e8-3c54cb00ad6f"
      },
      "outputs": [
        {
          "output_type": "stream",
          "name": "stdout",
          "text": [
            "Found 696 images belonging to 2 classes.\n"
          ]
        }
      ],
      "source": [
        "test_generator = test_datagen.flow_from_directory(\n",
        "    '/content/drive/MyDrive/Lab work/DL /binary classification/dataset/test',\n",
        "    target_size = (128,128),\n",
        "    batch_size = 32,\n",
        "    class_mode = 'binary'\n",
        ")"
      ]
    },
    {
      "cell_type": "code",
      "execution_count": null,
      "metadata": {
        "id": "xFb47zQrAY_d"
      },
      "outputs": [],
      "source": [
        "from tensorflow.keras.models import Sequential\n",
        "from tensorflow.keras.layers import Conv2D, MaxPooling2D, Flatten,Dense"
      ]
    },
    {
      "cell_type": "markdown",
      "metadata": {
        "id": "nuAq9ffiBq3E"
      },
      "source": [
        "## Define the Model:\n"
      ]
    },
    {
      "cell_type": "code",
      "execution_count": null,
      "metadata": {
        "colab": {
          "base_uri": "https://localhost:8080/"
        },
        "id": "p-WQxaGVBxn9",
        "outputId": "14d81ff2-6c94-4257-abd3-af8c4b735694"
      },
      "outputs": [
        {
          "output_type": "stream",
          "name": "stderr",
          "text": [
            "/usr/local/lib/python3.10/dist-packages/keras/src/layers/convolutional/base_conv.py:107: UserWarning: Do not pass an `input_shape`/`input_dim` argument to a layer. When using Sequential models, prefer using an `Input(shape)` object as the first layer in the model instead.\n",
            "  super().__init__(activity_regularizer=activity_regularizer, **kwargs)\n"
          ]
        }
      ],
      "source": [
        "model = Sequential([\n",
        "    Conv2D(32,(3,3), activation ='relu', input_shape =(128,128,3)), # 3 colors channels\n",
        "    MaxPooling2D((2,2)),\n",
        "    Conv2D(64,(3,3), activation ='relu'),\n",
        "    MaxPooling2D((2,2)),\n",
        "    Conv2D(128,(3,3), activation ='relu'),\n",
        "    MaxPooling2D((2,2)),\n",
        "    Flatten(),\n",
        "    Dense(64, activation ='relu'),\n",
        "    Dense(1, activation ='sigmoid')  # output layer for binary classification\n",
        "\n",
        "]\n",
        ")"
      ]
    },
    {
      "cell_type": "markdown",
      "metadata": {
        "id": "jzLanMaFCsn7"
      },
      "source": [
        "## Compile Model:"
      ]
    },
    {
      "cell_type": "code",
      "execution_count": null,
      "metadata": {
        "id": "4MgdcvAAC2kp"
      },
      "outputs": [],
      "source": [
        "model.compile(\n",
        "    optimizer = 'adam',\n",
        "    loss ='binary_crossentropy', # loss function for binary classification\n",
        "    metrics = ['accuracy']\n",
        ")"
      ]
    },
    {
      "cell_type": "markdown",
      "metadata": {
        "id": "Uq8MnnzxVo55"
      },
      "source": [
        "## Train the Model:"
      ]
    },
    {
      "cell_type": "code",
      "execution_count": null,
      "metadata": {
        "colab": {
          "base_uri": "https://localhost:8080/"
        },
        "id": "OgnBjkBwVtBX",
        "outputId": "911c4065-3029-4946-9918-19ae48f98996"
      },
      "outputs": [
        {
          "metadata": {
            "tags": null
          },
          "name": "stdout",
          "output_type": "stream",
          "text": [
            "Epoch 1/5\n"
          ]
        },
        {
          "metadata": {
            "tags": null
          },
          "name": "stderr",
          "output_type": "stream",
          "text": [
            "/usr/local/lib/python3.10/dist-packages/keras/src/trainers/data_adapters/py_dataset_adapter.py:121: UserWarning: Your `PyDataset` class should call `super().__init__(**kwargs)` in its constructor. `**kwargs` can include `workers`, `use_multiprocessing`, `max_queue_size`. Do not pass these arguments to `fit()`, as they will be ignored.\n",
            "  self._warn_if_super_not_called()\n"
          ]
        },
        {
          "output_type": "stream",
          "name": "stdout",
          "text": [
            "\u001b[1m21/21\u001b[0m \u001b[32m━━━━━━━━━━━━━━━━━━━━\u001b[0m\u001b[37m\u001b[0m \u001b[1m773s\u001b[0m 33s/step - accuracy: 0.6342 - loss: 0.6524 - val_accuracy: 0.9345 - val_loss: 0.2785\n",
            "Epoch 2/5\n",
            "\u001b[1m 1/21\u001b[0m \u001b[37m━━━━━━━━━━━━━━━━━━━━\u001b[0m \u001b[1m0s\u001b[0m 25ms/step - accuracy: 0.8750 - loss: 0.3975"
          ]
        },
        {
          "output_type": "stream",
          "name": "stderr",
          "text": [
            "/usr/lib/python3.10/contextlib.py:153: UserWarning: Your input ran out of data; interrupting training. Make sure that your dataset or generator can generate at least `steps_per_epoch * epochs` batches. You may need to use the `.repeat()` function when building your dataset.\n",
            "  self.gen.throw(typ, value, traceback)\n"
          ]
        },
        {
          "output_type": "stream",
          "name": "stdout",
          "text": [
            "\b\b\b\b\b\b\b\b\b\b\b\b\b\b\b\b\b\b\b\b\b\b\b\b\b\b\b\b\b\b\b\b\b\b\b\b\b\b\b\b\b\b\b\b\b\b\b\b\b\b\b\b\b\b\b\b\b\b\b\b\b\b\b\b\b\b\b\b\b\b\b\b\b\r\u001b[1m21/21\u001b[0m \u001b[32m━━━━━━━━━━━━━━━━━━━━\u001b[0m\u001b[37m\u001b[0m \u001b[1m18s\u001b[0m 907ms/step - accuracy: 0.8750 - loss: 0.3975 - val_accuracy: 0.7917 - val_loss: 0.4025\n",
            "Epoch 3/5\n",
            "\u001b[1m21/21\u001b[0m \u001b[32m━━━━━━━━━━━━━━━━━━━━\u001b[0m\u001b[37m\u001b[0m \u001b[1m10s\u001b[0m 380ms/step - accuracy: 0.8834 - loss: 0.2706 - val_accuracy: 0.9315 - val_loss: 0.1660\n",
            "Epoch 4/5\n",
            "\u001b[1m21/21\u001b[0m \u001b[32m━━━━━━━━━━━━━━━━━━━━\u001b[0m\u001b[37m\u001b[0m \u001b[1m0s\u001b[0m 5ms/step - accuracy: 0.9688 - loss: 0.0758 - val_accuracy: 0.9167 - val_loss: 0.0984\n",
            "Epoch 5/5\n",
            "\u001b[1m21/21\u001b[0m \u001b[32m━━━━━━━━━━━━━━━━━━━━\u001b[0m\u001b[37m\u001b[0m \u001b[1m20s\u001b[0m 379ms/step - accuracy: 0.9781 - loss: 0.0934 - val_accuracy: 0.9315 - val_loss: 0.2419\n"
          ]
        }
      ],
      "source": [
        "history = model.fit(\n",
        "    train_generator,\n",
        "    steps_per_epoch = train_generator.samples // train_generator.batch_size, # number of batches per epoch\n",
        "    epochs = 5,\n",
        "    validation_data = test_generator,\n",
        "    validation_steps = test_generator.samples // test_generator.batch_size # number of validation steps per epoch\n",
        ")"
      ]
    },
    {
      "cell_type": "markdown",
      "metadata": {
        "id": "fDiuMlA3bBV3"
      },
      "source": [
        "## Evaluate the Model:"
      ]
    },
    {
      "cell_type": "code",
      "execution_count": null,
      "metadata": {
        "id": "COB5bncMa8ka",
        "colab": {
          "base_uri": "https://localhost:8080/"
        },
        "outputId": "e3b76764-2a1d-477b-e087-5427d9dfa4d2"
      },
      "outputs": [
        {
          "output_type": "stream",
          "name": "stdout",
          "text": [
            "\u001b[1m21/21\u001b[0m \u001b[32m━━━━━━━━━━━━━━━━━━━━\u001b[0m\u001b[37m\u001b[0m \u001b[1m3s\u001b[0m 162ms/step - accuracy: 0.9219 - loss: 0.2642\n",
            "Test accuracy :93.15%\n"
          ]
        }
      ],
      "source": [
        "loss ,accuarcy =model.evaluate(\n",
        "    test_generator,\n",
        "    steps = test_generator.samples // test_generator.batch_size # Number of test steps per epoch\n",
        ")\n",
        "print(f\"Test accuracy :{accuarcy * 100:.2f}%\")"
      ]
    },
    {
      "cell_type": "markdown",
      "metadata": {
        "id": "OOHkIoGvcfMA"
      },
      "source": [
        "## Make a predication:"
      ]
    },
    {
      "cell_type": "code",
      "execution_count": null,
      "metadata": {
        "id": "cUg11dajcjs6",
        "colab": {
          "base_uri": "https://localhost:8080/"
        },
        "outputId": "89a54d7a-1172-40b4-9c9b-2f05c8eca707"
      },
      "outputs": [
        {
          "output_type": "stream",
          "name": "stdout",
          "text": [
            "\u001b[1m1/1\u001b[0m \u001b[32m━━━━━━━━━━━━━━━━━━━━\u001b[0m\u001b[37m\u001b[0m \u001b[1m1s\u001b[0m 647ms/step\n",
            "Car\n"
          ]
        }
      ],
      "source": [
        "from tensorflow.keras.preprocessing import image\n",
        "\n",
        "img_path ='/content/drive/MyDrive/Lab work/DL /binary classification/dataset/test/Cars/6.jpg'\n",
        "img = image.load_img(img_path, target_size=(128,128))\n",
        "img_array = image.img_to_array(img)\n",
        "img_array = np.expand_dims(img_array, axis=0)\n",
        "img_array /= 255.0\n",
        "\n",
        "# predicat the class\n",
        "prediction = model.predict(img_array)\n",
        "print('Car' if prediction[0][0] < 0.5 else 'Cricket ball' )"
      ]
    },
    {
      "cell_type": "markdown",
      "metadata": {
        "id": "XCmLt2--wUi_"
      },
      "source": [
        "## Plotting  the Accuracy"
      ]
    },
    {
      "cell_type": "code",
      "execution_count": null,
      "metadata": {
        "id": "EfCoK2mQwdp8",
        "colab": {
          "base_uri": "https://localhost:8080/",
          "height": 564
        },
        "outputId": "095b0b39-14ec-4bae-cf2e-6786e4a3fe2b"
      },
      "outputs": [
        {
          "output_type": "display_data",
          "data": {
            "text/plain": [
              "<Figure size 800x600 with 1 Axes>"
            ],
            "image/png": "[encoded data removed]"
          },
          "metadata": {}
        }
      ],
      "source": [
        "import matplotlib.pyplot as plt\n",
        "plt.figure(figsize=(8,6))\n",
        "plt.plot(history.history['accuracy'], label ='Train accuracy')\n",
        "plt.plot(history.history['val_accuracy'], label='Validation accuracy')\n",
        "plt.title('Model Accuracy')\n",
        "plt.xlabel('Epochs')\n",
        "plt.ylabel('Accuracy')\n",
        "plt.legend()\n",
        "plt.show()"
      ]
    }
  ],
  "metadata": {
    "accelerator": "GPU",
    "colab": {
      "gpuType": "T4",
      "provenance": [],
      "mount_file_id": "1Da3eH2vzNtCzdoyx5oSKvuCXN1XbSDAz",
      "authorship_tag": "ABX9TyMpNvaa0akHHL0RT2sBUlah",
      "include_colab_link": true
    },
    "kernelspec": {
      "display_name": "Python 3",
      "name": "python3"
    },
    "language_info": {
      "name": "python"
    }
  },
  "nbformat": 4,
  "nbformat_minor": 0
}